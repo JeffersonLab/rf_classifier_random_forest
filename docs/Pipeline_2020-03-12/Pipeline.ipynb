{
 "cells": [
  {
   "cell_type": "markdown",
   "metadata": {},
   "source": [
    "# Data Pipeline for C100 Cavity and Fault Classification \n",
    "*March 12, 2020* <br>"
   ]
  },
  {
   "cell_type": "code",
   "execution_count": 13,
   "metadata": {},
   "outputs": [],
   "source": [
    "from datetime import datetime\n",
    "startTime = datetime.now()"
   ]
  },
  {
   "cell_type": "code",
   "execution_count": 14,
   "metadata": {},
   "outputs": [],
   "source": [
    "import pandas as pd\n",
    "import numpy as np\n",
    "import os\n",
    "import glob\n",
    "from pathlib import Path\n",
    "from scipy.stats import uniform, randint\n",
    "from statsmodels.tsa.ar_model import AR\n",
    "import warnings\n",
    "from sklearn import preprocessing\n",
    "from sklearn.externals import joblib"
   ]
  },
  {
   "cell_type": "code",
   "execution_count": 15,
   "metadata": {},
   "outputs": [],
   "source": [
    "warnings.filterwarnings(action='ignore', category=FutureWarning)\n",
    "\n",
    "def getStatARCoreffs(signals, maxLag, normalize):\n",
    "    for i in range(0, np.shape(signals)[1]):\n",
    "        if np.size(np.unique(signals[:, i])) == 1:\n",
    "            parameters = np.zeros(maxLag + 1, dtype=np.float64)\n",
    "        else:\n",
    "            # integrated normalizer for speed\n",
    "            if normalize:\n",
    "                signals[:, i] = np.squeeze(signalScaler.fit_transform(signals[:, i].reshape(-1, 1)))\n",
    "\n",
    "            model = AR(signals[:, i])\n",
    "            model_fit = model.fit(maxLag, ic=None)\n",
    "            if np.shape(model_fit.params)[0] < maxLag + 1:\n",
    "                parameters = np.pad(model_fit.params, (0, maxLag + 1 - np.shape(model_fit.params)[0]),\n",
    "                                    'constant', constant_values=0)\n",
    "            elif np.shape(model_fit.params)[0] > maxLag + 1:\n",
    "                parameters = model_fit.params[: maxLag]\n",
    "            else:\n",
    "                parameters = model_fit.params\n",
    "        if i == 0:\n",
    "            coefficients = parameters\n",
    "        else:\n",
    "            coefficients = np.append(coefficients, parameters, axis=0)\n",
    "\n",
    "    return pd.DataFrame(coefficients).T"
   ]
  },
  {
   "cell_type": "code",
   "execution_count": 16,
   "metadata": {},
   "outputs": [
    {
     "name": "stdout",
     "output_type": "stream",
     "text": [
      "------------------------------------------------------------------------------------------------\n",
      "Number of training examples: 1\n",
      "Number of features: 192\n"
     ]
    }
   ],
   "source": [
    "signalScaler = preprocessing.StandardScaler(copy=True, with_mean=True, with_std=True)\n",
    "featureScaler = preprocessing.StandardScaler(copy=True, with_mean=True, with_std=True)\n",
    "\n",
    "cav_dict = {'0L04': 'R04', '1L07': 'R17', '1L22': 'R1M', '1L23': 'R1N', '1L24': 'R1O', '1L25': 'R1P',\n",
    "            '1L26': 'R1Q', '2L22': 'R2M', '2L23': 'R2N', '2L24': 'R2O', '2L25': 'R2P', '2L26': 'R2Q'}\n",
    "\n",
    "cavity_df = pd.DataFrame()\n",
    "\n",
    "mainPath = Path('D:/RF WAVEFORMS/')\n",
    "module_path = mainPath / 'rfw-Fall-2019/waveform-data/rf'\n",
    "dir = mainPath / 'rfw-Fall-2019/labeled-examples'\n",
    "\n",
    "filelist = [dir / 'example.txt']\n",
    "\n",
    "sel_col = [\"Time\", \"id\", \n",
    "           \"1_GMES\", \"1_GASK\", \"1_CRFP\", \"1_DETA2_\", \"2_GMES\", \"2_GASK\", \"2_CRFP\", \"2_DETA2_\",\n",
    "           \"3_GMES\", \"3_GASK\", \"3_CRFP\", \"3_DETA2_\", \"4_GMES\", \"4_GASK\", \"4_CRFP\", \"4_DETA2_\",\n",
    "           \"5_GMES\", \"5_GASK\", \"5_CRFP\", \"5_DETA2_\", \"6_GMES\", \"6_GASK\", \"6_CRFP\", \"6_DETA2_\",\n",
    "           \"7_GMES\", \"7_GASK\", \"7_CRFP\", \"7_DETA2_\", \"8_GMES\", \"8_GASK\", \"8_CRFP\", \"8_DETA2_\"]\n",
    "\n",
    "norm_col = [\"1_GMES\", \"1_GASK\", \"1_CRFP\", \"1_DETA2_\", \"2_GMES\", \"2_GASK\", \"2_CRFP\", \"2_DETA2_\",\n",
    "            \"3_GMES\", \"3_GASK\", \"3_CRFP\", \"3_DETA2_\", \"4_GMES\", \"4_GASK\", \"4_CRFP\", \"4_DETA2_\",\n",
    "            \"5_GMES\", \"5_GASK\", \"5_CRFP\", \"5_DETA2_\", \"6_GMES\", \"6_GASK\", \"6_CRFP\", \"6_DETA2_\",\n",
    "            \"7_GMES\", \"7_GASK\", \"7_CRFP\", \"7_DETA2_\", \"8_GMES\", \"8_GASK\", \"8_CRFP\", \"8_DETA2_\"]\n",
    "k = 0\n",
    "for i in filelist:\n",
    "    data_file_path = dir / i\n",
    "\n",
    "    log = pd.read_csv(data_file_path, sep='\\t')\n",
    "\n",
    "    m, n = log.shape\n",
    "\n",
    "    for j in range(0, m):\n",
    "        k += 1\n",
    "\n",
    "        getDateTime = datetime.strptime(log.time[j], '%Y/%m/%d %H:%M:%S')\n",
    "\n",
    "        if (log.zone[j] == '0L04'):\n",
    "            print(\"Skipping 0L04.\")\n",
    "        else:\n",
    "\n",
    "            date, time = log.time[j].split(\" \", 1)\n",
    "            date_format = date.replace(\"/\", \"_\")\n",
    "            time_format = time.replace(\":\", \"\")\n",
    "\n",
    "            list1 = [time_format, '.', '?']\n",
    "            ct = os.path.join(module_path, log.zone[j], date_format, \"\".join(list1))\n",
    "            dir1 = glob.glob(ct)\n",
    "            \n",
    "            if dir1:\n",
    "                dir2 = os.listdir(dir1[0])\n",
    "\n",
    "                if len(dir2) == 8:\n",
    "                    \n",
    "                    module_df = pd.DataFrame()\n",
    "                    \n",
    "                    for file in range(0, 8):\n",
    "                        f = os.path.join(dir1[0], dir2[file])\n",
    "                        df = pd.read_csv(f, sep='\\t')\n",
    "                        sLength = len(df['Time'])\n",
    "                        tStep = (df.Time[2] - df.Time[1])\n",
    "                        \n",
    "                        if (tStep < 0.1):\n",
    "                            raise ValueError(\"Model assumes 0.20 ms sampling time.\");\n",
    "                        \n",
    "                        df['id'] = pd.Series(k, index=df.index)\n",
    "                        col = ['Time',\n",
    "                                f'{file + 1}_IMES', f'{file + 1}_QMES', f'{file + 1}_GMES', f'{file + 1}_PMES', f'{file + 1}_IASK',\n",
    "                                f'{file + 1}_QASK',\n",
    "                                f'{file + 1}_GASK', f'{file + 1}_PASK', f'{file + 1}_CRFP', f'{file + 1}_CRFPP', f'{file + 1}_CRRP',\n",
    "                                f'{file + 1}_CRRPP',\n",
    "                                f'{file + 1}_GLDE', f'{file + 1}_PLDE', f'{file + 1}_DETA2_', f'{file + 1}_CFQE2_', f'{file + 1}_DFQES',\n",
    "                                'id']\n",
    "                        df.columns = col\n",
    "                        module_df = pd.concat([module_df, df], axis=1, sort=False)\n",
    "                        \n",
    "                    module_df = module_df.astype(np.float64, copy=True)\n",
    "                    module_df = module_df.loc[:, ~module_df.columns.duplicated()]\n",
    "                    module_df = module_df[sel_col]\n",
    "                                        \n",
    "                    module_df = getStatARCoreffs(module_df[norm_col].values, maxLag=5, normalize=1)\n",
    "                    cavity_df = cavity_df.append(module_df)\n",
    "                    \n",
    "                else:\n",
    "                    print(\"Directory does not contain data files for all 8 cavities in the zone.\")\n",
    "\n",
    "            else:\n",
    "                print(\"Directory: \" + ct + \" has no files.\")\n",
    "\n",
    "X_master = cavity_df\n",
    "\n",
    "print(\"------------------------------------------------------------------------------------------------\")\n",
    "print(\"Number of training examples: {}\".format(X_master.shape[0]))\n",
    "print(\"Number of features: {}\".format(X_master.shape[1]))"
   ]
  },
  {
   "cell_type": "code",
   "execution_count": 17,
   "metadata": {},
   "outputs": [],
   "source": [
    "RF_cavity = joblib.load('RF_CAVITY_03112020.sav')\n",
    "RF_fault = joblib.load('RF_FAULT_03112020.sav')"
   ]
  },
  {
   "cell_type": "markdown",
   "metadata": {},
   "source": [
    "### Cavity ID Prediction"
   ]
  },
  {
   "cell_type": "code",
   "execution_count": 18,
   "metadata": {},
   "outputs": [],
   "source": [
    "cavityID = RF_cavity.predict(X_master)\n",
    "cavityID_prob = RF_cavity.predict_proba(X_master)\n",
    "cavityID_str = cavityID.astype(str)[0]\n",
    "ID_confidence = float(cavityID_prob[0][cavityID]*100)"
   ]
  },
  {
   "cell_type": "markdown",
   "metadata": {},
   "source": [
    "### Fault ID Prediction"
   ]
  },
  {
   "cell_type": "code",
   "execution_count": 19,
   "metadata": {},
   "outputs": [],
   "source": [
    "le = preprocessing.LabelEncoder()\n",
    "le.classes_ = np.load('le_fault_classes.npy')\n",
    "le.classes_;"
   ]
  },
  {
   "cell_type": "code",
   "execution_count": 20,
   "metadata": {},
   "outputs": [],
   "source": [
    "cavityFault = RF_fault.predict(X_master)\n",
    "cavityFault_prob = RF_fault.predict_proba(X_master)\n",
    "cavityFault_name = le.inverse_transform(cavityFault)\n",
    "cavityFault_name_str = cavityFault_name.astype(str)[0]\n",
    "fault_confidence = float(cavityFault_prob[0][cavityFault]*100)"
   ]
  },
  {
   "cell_type": "markdown",
   "metadata": {},
   "source": [
    "### Summary"
   ]
  },
  {
   "cell_type": "code",
   "execution_count": 21,
   "metadata": {},
   "outputs": [
    {
     "name": "stdout",
     "output_type": "stream",
     "text": [
      "cavity 5 ( 83.07 ) Controls Fault ( 68.25 )\n"
     ]
    }
   ],
   "source": [
    "print('cavity', cavityID_str, '(',round(ID_confidence,2), ')', cavityFault_name_str, '(',round(fault_confidence,2),')')"
   ]
  },
  {
   "cell_type": "code",
   "execution_count": 22,
   "metadata": {},
   "outputs": [
    {
     "name": "stdout",
     "output_type": "stream",
     "text": [
      "Executing the notebook took: 0:00:01.125985 (h:mm:ss)\n"
     ]
    }
   ],
   "source": [
    "print(\"Executing the notebook took:\", datetime.now() - startTime, \"(h:mm:ss)\")"
   ]
  },
  {
   "cell_type": "code",
   "execution_count": null,
   "metadata": {},
   "outputs": [],
   "source": []
  }
 ],
 "metadata": {
  "kernelspec": {
   "display_name": "Python 3",
   "language": "python",
   "name": "python3"
  },
  "language_info": {
   "codemirror_mode": {
    "name": "ipython",
    "version": 3
   },
   "file_extension": ".py",
   "mimetype": "text/x-python",
   "name": "python",
   "nbconvert_exporter": "python",
   "pygments_lexer": "ipython3",
   "version": "3.6.4"
  }
 },
 "nbformat": 4,
 "nbformat_minor": 2
}
